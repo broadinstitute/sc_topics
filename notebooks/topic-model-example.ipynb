{
 "cells": [
  {
   "cell_type": "code",
   "execution_count": 1,
   "metadata": {},
   "outputs": [],
   "source": [
    "import numpy as np\n",
    "import pandas as pd\n",
    "import scipy.io\n",
    "import scanpy.api as sc\n",
    "\n",
    "import gensim\n",
    "from gensim import corpora, models, similarities\n",
    "import pyLDAvis.gensim\n",
    "\n",
    "pyLDAvis.enable_notebook()"
   ]
  },
  {
   "cell_type": "markdown",
   "metadata": {},
   "source": [
    "## Reading in Data\n",
    "\n",
    "Using scipy to read in the sparse matrix formated data."
   ]
  },
  {
   "cell_type": "code",
   "execution_count": 2,
   "metadata": {},
   "outputs": [],
   "source": [
    "project_path = '/ahg/regevdata/projects/FASI_DOmice/'\n",
    "my_path = project_path + 'kirk/'\n",
    "sc_path = project_path + 'scRNA_seq/cellranger/counts/C1/outs/mm10'"
   ]
  },
  {
   "cell_type": "code",
   "execution_count": null,
   "metadata": {},
   "outputs": [],
   "source": [
    "## Reading \n",
    "geneids = pd.read_csv(sc_path + 'genes.tsv', delimiter = '\\t', names = ['id','symbol'])\n",
    "mat = scipy.io.mmread(sc_path + 'matrix.mtx')\n",
    "mat = mat.tocsr()"
   ]
  },
  {
   "cell_type": "code",
   "execution_count": 3,
   "metadata": {},
   "outputs": [],
   "source": [
    "## or using scanpy's AnnData\n",
    "adata = sc.read(my_path + 'data/scanpy/allchannels.h5ad')\n",
    "geneids = adata.var_names\n",
    "mat = adata.X.transpose(copy=True)"
   ]
  },
  {
   "cell_type": "markdown",
   "metadata": {},
   "source": [
    "## Filtering\n",
    "\n",
    "There are a lot of empty cells(documents) and cells with very few genes (words) expressed.  Filtering out to require at least 200 genes per cell."
   ]
  },
  {
   "cell_type": "code",
   "execution_count": null,
   "metadata": {},
   "outputs": [],
   "source": [
    "## keeping cells that have at least 200 Genes expressed\n",
    "keep_ind = mat.getnnz(axis=0) > 200\n",
    "mat = mat[:, np.where(keep_ind)[0]]"
   ]
  },
  {
   "cell_type": "code",
   "execution_count": null,
   "metadata": {},
   "outputs": [],
   "source": [
    "## Using only highly variable genes\n",
    "highly_variable = sc.pp.highly_variable_genes(adata, min_mean=0.0125, max_mean=3, min_disp=0.5)\n",
    "mat = mat[highly_variable.highly_variable,:]"
   ]
  },
  {
   "cell_type": "markdown",
   "metadata": {},
   "source": [
    "## Converting Data\n",
    "\n",
    "Converting sparse matrix to a corpus to use with gensim"
   ]
  },
  {
   "cell_type": "code",
   "execution_count": null,
   "metadata": {},
   "outputs": [],
   "source": [
    "corpus = gensim.matutils.Sparse2Corpus(mat)\n",
    "## saving as a corpus file into tmp directory\n",
    "corpora.MmCorpus.serialize('/tmp/corpus.mm', corpus)\n",
    "\n",
    "# loading corpus\n",
    "# corpus = corpora.MmCorpus('/tmp/corpus.mm')"
   ]
  },
  {
   "cell_type": "code",
   "execution_count": null,
   "metadata": {},
   "outputs": [],
   "source": [
    "id_list = geneids['id'].tolist()\n",
    "out = [[]]\n",
    "for i in id_list: out.append([i])\n",
    "\n",
    "dictionary = corpora.Dictionary(out)\n",
    "dictionary.save('/tmp/genes_dictionary.dict')  # store the dictionary, for future reference\n",
    "\n",
    "## Read in saved dictionary\n",
    "## dictionary = gensim.corpora.Dictionary.load(my_path + 'data/reference/mouse_gene_dictionary.dict')"
   ]
  },
  {
   "cell_type": "markdown",
   "metadata": {},
   "source": [
    "## Running the Model\n",
    "\n",
    "The following two chunks runs either LDA or HDP.  HDP chooses the number of topics for you. "
   ]
  },
  {
   "cell_type": "code",
   "execution_count": null,
   "metadata": {},
   "outputs": [],
   "source": [
    "# Latent Dirichlet Allocation\n",
    "lda = models.LdaModel(corpus=corpus,\n",
    "                      id2word=dictionary,\n",
    "                      num_topics=t,\n",
    "                      random_state=100,\n",
    "                      # update_every=0, # only for ldamodel\n",
    "                      # chunksize=10000,\n",
    "                      # passes=1,\n",
    "                      # alpha='auto',\n",
    "                      # per_word_topics=True\n",
    "                     )\n",
    "\n",
    "## lda.print_topics(2) # print first 2 topics"
   ]
  },
  {
   "cell_type": "code",
   "execution_count": null,
   "metadata": {},
   "outputs": [],
   "source": [
    "# Hierarchical Dirchlet Process\n",
    "hdp = models.HdpModel(corpus, id2word=dictionary)\n",
    "## hdp.print_topics(2) # print first 2 topics"
   ]
  },
  {
   "cell_type": "markdown",
   "metadata": {},
   "source": [
    "## Exploring Topics"
   ]
  },
  {
   "cell_type": "code",
   "execution_count": null,
   "metadata": {},
   "outputs": [],
   "source": [
    "for index, topic in lda.show_topics(formatted=False, num_words= 30):\n",
    "    print('Topic: {} \\nWords: {}'.format(index, [w[0] for w in topic]))"
   ]
  },
  {
   "cell_type": "code",
   "execution_count": null,
   "metadata": {},
   "outputs": [],
   "source": [
    "## Save top genes per topic to csv\n",
    "top_words_per_topic = []\n",
    "for t in range(lda.num_topics):\n",
    "    top_words_per_topic.extend([(t, ) + x for x in lda.show_topic(t, topn = 20)])\n",
    "\n",
    "pd.DataFrame(top_words_per_topic, columns=['Topic', 'Word', 'P']).to_csv(\"top_genes.csv\")"
   ]
  },
  {
   "cell_type": "markdown",
   "metadata": {},
   "source": [
    "## Visualizing\n",
    "\n",
    "Visualizing the topics with pyLDAvis"
   ]
  },
  {
   "cell_type": "code",
   "execution_count": null,
   "metadata": {},
   "outputs": [],
   "source": [
    "vis_data = pyLDAvis.gensim.prepare(lda, corpus, dictionary)\n",
    "pyLDAvis.display(vis_data)"
   ]
  },
  {
   "cell_type": "markdown",
   "metadata": {},
   "source": [
    "## Checking Number of Topics\n",
    "Looping through a few different number of topics to see which are the most coherent.  The higher the better."
   ]
  },
  {
   "cell_type": "code",
   "execution_count": null,
   "metadata": {},
   "outputs": [],
   "source": [
    "topics_start = 4\n",
    "topics_end = 30\n",
    "step = 2\n",
    "d = []\n",
    "## loop through number of topics\n",
    "for t in range(topics_start, topics_end, step):\n",
    "    # Latent Dirichlet Allocation\n",
    "    # Build LDA model\n",
    "    print('running lda with '+ str(t) + ' topics \\n')\n",
    "    lda_model = gensim.models.ldamodel.LdaModel(corpus=corpus,\n",
    "                                                id2word=dictionary,\n",
    "                                                num_topics=t,\n",
    "                                                random_state=100,\n",
    "                                                # update_every=0, # only for ldamodel\n",
    "                                                # chunksize=10000,\n",
    "                                                # passes=1,\n",
    "                                                # alpha='auto',\n",
    "                                                # per_word_topics=True\n",
    "                                               )\n",
    "\n",
    "\n",
    "\n",
    "    ## Save Model\n",
    "    print('saving lda model \\n')\n",
    "    lda_model.save(my_path + 'results/gensim/lda_allchannels_' + str(t) + '_topics')\n",
    "\n",
    "    \n",
    "    # Compute Perplexity\n",
    "    print('calculating perplexity \\n')\n",
    "    perplex = lda_model.log_perplexity(corpus)  # a measure of how good the model is. lower the better.\n",
    "\n",
    "\n",
    "    # Compute Coherence Score u_mass\n",
    "    print('calculating coherence using u_mass \\n')\n",
    "    coherence_model = CoherenceModel(model=lda_model, corpus = corpus, dictionary = dictionary, coherence ='u_mass')\n",
    "    coherence_values = coherence_model.get_coherence()\n",
    "\n",
    "    d.append({'topics': t, 'perplexity': perplex, 'coherence': coherence_values})\n",
    "\n",
    "\n",
    "## Save data frame of results\n",
    "print('saving model statistic output')\n",
    "df = pd.DataFrame(d)\n",
    "df.to_csv(my_path + 'results/gensim/lda_model_build_results.csv')"
   ]
  },
  {
   "cell_type": "code",
   "execution_count": null,
   "metadata": {},
   "outputs": [],
   "source": [
    "import matplotlib.pyplot as plt\n",
    "\n",
    "limit=40; start=2; step=6;\n",
    "x = range(topics_start, topics_end, step)\n",
    "plt.plot(x, coherence_values)\n",
    "plt.xlabel(\"Num Topics\")\n",
    "plt.ylabel(\"Coherence score\")\n",
    "plt.legend((\"coherence_values\"), loc='best')\n",
    "plt.show()"
   ]
  }
 ],
 "metadata": {
  "kernelspec": {
   "display_name": "Python 3",
   "language": "python",
   "name": "python3"
  },
  "language_info": {
   "codemirror_mode": {
    "name": "ipython",
    "version": 3
   },
   "file_extension": ".py",
   "mimetype": "text/x-python",
   "name": "python",
   "nbconvert_exporter": "python",
   "pygments_lexer": "ipython3",
   "version": "3.7.3"
  }
 },
 "nbformat": 4,
 "nbformat_minor": 4
}
