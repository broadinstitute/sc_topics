{
 "cells": [
  {
   "cell_type": "code",
   "execution_count": 1,
   "metadata": {},
   "outputs": [
    {
     "ename": "ModuleNotFoundError",
     "evalue": "No module named 'gensim'",
     "output_type": "error",
     "traceback": [
      "\u001b[0;31m---------------------------------------------------------------------------\u001b[0m",
      "\u001b[0;31mModuleNotFoundError\u001b[0m                       Traceback (most recent call last)",
      "\u001b[0;32m<ipython-input-1-e70e92d32c6e>\u001b[0m in \u001b[0;36m<module>\u001b[0;34m()\u001b[0m\n\u001b[0;32m----> 1\u001b[0;31m \u001b[0;32mimport\u001b[0m \u001b[0mgensim\u001b[0m\u001b[0;34m\u001b[0m\u001b[0m\n\u001b[0m",
      "\u001b[0;31mModuleNotFoundError\u001b[0m: No module named 'gensim'"
     ]
    }
   ],
   "source": [
    "import gensim"
   ]
  },
  {
   "cell_type": "markdown",
   "metadata": {},
   "source": [
    "## Dynamic Topic Models\n",
    "[dtm](https://github.com/blei-lab/dtm)\n",
    "\n",
    "[Dynamic Poisson Factorization](https://github.com/blei-lab/DynamicPoissonFactorization)"
   ]
  },
  {
   "cell_type": "markdown",
   "metadata": {},
   "source": [
    "## Context Selection Embedding\n",
    "[link](https://github.com/blei-lab/context-selection-embedding)\n",
    "\n",
    "The approach is to predict the count/presence of one item given its context items. "
   ]
  },
  {
   "cell_type": "markdown",
   "metadata": {},
   "source": [
    "## Hierarchical Dirichlet Process\n",
    "[blei-lab](https://github.com/blei-lab/hdp)\n",
    "[gensim](https://radimrehurek.com/gensim/models/hdpmodel.html)\n",
    "\n",
    "Hierarchical in the parameter space for selecting the number of topics\n",
    "\n",
    "\n",
    "### Nested Topics as well\n",
    "[Nested Chinese Restaurant Process](https://cocosci.berkeley.edu/tom/papers/ncrp.pdf)\n",
    "\n",
    "The Nested Chinese Restaurant Process and Bayesian\n",
    "Nonparametric Inference of Topic Hierarchies"
   ]
  },
  {
   "cell_type": "markdown",
   "metadata": {},
   "source": [
    "## Hierarchical Latent Dirichlet Allocation\n",
    "\n",
    "[hlda](https://github.com/blei-lab/hlda)\n",
    "\n",
    "Hierarichical topics "
   ]
  },
  {
   "cell_type": "markdown",
   "metadata": {},
   "source": [
    "## Collaborative Topic Modeling\n",
    "[ctr](https://github.com/blei-lab/ctr)\n",
    "[collabtm](https://github.com/blei-lab/collabtm)\n",
    "\n",
    "Used for recommendations accross many users"
   ]
  },
  {
   "cell_type": "markdown",
   "metadata": {},
   "source": [
    "## Correlated Topic Models\n",
    "[ctm](https://github.com/blei-lab/ctm-c)  \n",
    "[paper](https://arxiv.org/pdf/0708.3601.pdf)"
   ]
  },
  {
   "cell_type": "code",
   "execution_count": null,
   "metadata": {},
   "outputs": [],
   "source": []
  }
 ],
 "metadata": {
  "kernelspec": {
   "display_name": "Python 3",
   "language": "python",
   "name": "python3"
  },
  "language_info": {
   "codemirror_mode": {
    "name": "ipython",
    "version": 3
   },
   "file_extension": ".py",
   "mimetype": "text/x-python",
   "name": "python",
   "nbconvert_exporter": "python",
   "pygments_lexer": "ipython3",
   "version": "3.6.5"
  }
 },
 "nbformat": 4,
 "nbformat_minor": 2
}
