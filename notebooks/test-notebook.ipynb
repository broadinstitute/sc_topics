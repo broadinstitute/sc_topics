{
 "cells": [
  {
   "cell_type": "markdown",
   "metadata": {},
   "source": [
    "# Setup"
   ]
  },
  {
   "cell_type": "code",
   "execution_count": 1,
   "metadata": {},
   "outputs": [],
   "source": [
    "import os\n",
    "import scanpy as sc\n",
    "\n",
    "import numpy as np\n",
    "import pandas as pd\n",
    "\n",
    "from numpy.random.mtrand import RandomState\n",
    "from sklearn.utils import check_random_state, check_array\n",
    "from sklearn.decomposition import NMF\n",
    "\n",
    "import gensim\n",
    "from gensim import corpora, models, similarities"
   ]
  },
  {
   "cell_type": "markdown",
   "metadata": {},
   "source": [
    "## NMF Section"
   ]
  },
  {
   "cell_type": "markdown",
   "metadata": {},
   "source": [
    "### NMF Code Chunks"
   ]
  },
  {
   "cell_type": "code",
   "execution_count": null,
   "metadata": {},
   "outputs": [],
   "source": []
  },
  {
   "cell_type": "markdown",
   "metadata": {},
   "source": [
    "### NMF Using Script Import"
   ]
  },
  {
   "cell_type": "code",
   "execution_count": null,
   "metadata": {},
   "outputs": [],
   "source": []
  },
  {
   "cell_type": "markdown",
   "metadata": {},
   "source": [
    "## LDA Section"
   ]
  },
  {
   "cell_type": "markdown",
   "metadata": {},
   "source": [
    "### LDA Code Chunks"
   ]
  },
  {
   "cell_type": "code",
   "execution_count": 2,
   "metadata": {},
   "outputs": [],
   "source": [
    "## Read Data\n",
    "# adata = sc.read('/ahg/regevdata/users/kgosik/data/pbmc/pbmc_test_data.h5ad')\n",
    "adata = sc.read_10x_mtx('/ahg/regevdata/users/kgosik/data/pbmc/hg19')"
   ]
  },
  {
   "cell_type": "code",
   "execution_count": 3,
   "metadata": {},
   "outputs": [
    {
     "data": {
      "text/plain": [
       "<2700x32738 sparse matrix of type '<class 'numpy.float32'>'\n",
       "\twith 2286884 stored elements in Compressed Sparse Row format>"
      ]
     },
     "execution_count": 3,
     "metadata": {},
     "output_type": "execute_result"
    }
   ],
   "source": [
    "adata.X"
   ]
  },
  {
   "cell_type": "code",
   "execution_count": 4,
   "metadata": {},
   "outputs": [],
   "source": [
    "## Extract Sparse gbm \n",
    "adata_use = adata.copy()\n",
    "mat = adata_use.X.transpose()\n",
    "geneids = adata_use.var_names\n",
    "\n",
    "## Create Vocab list of genes\n",
    "id_list = geneids.tolist()\n",
    "out = [[]]\n",
    "for i in id_list: out.append([i])\n",
    "## Turn into dictionary for use in model\n",
    "dictionary = corpora.Dictionary(out)\n",
    "## Convert gbm to a corpus format for model\n",
    "corpus = gensim.matutils.Sparse2Corpus(mat)\n",
    "# corpus = gensim.matutils.Dense2Corpus(mat)\n",
    "## corpora.MmCorpus.serialize(project_directory + '/corpus/' + output + '_corpus.mm', corpus)"
   ]
  },
  {
   "cell_type": "code",
   "execution_count": 5,
   "metadata": {},
   "outputs": [],
   "source": [
    "num_topics = 5\n",
    "random_state = 1\n",
    "update_every = 0\n",
    "chunksize = 1000"
   ]
  },
  {
   "cell_type": "code",
   "execution_count": 6,
   "metadata": {},
   "outputs": [],
   "source": [
    "## model == 'lda'\n",
    "## Latent Dirichlet Allocation ####\n",
    "lda = models.LdaModel(corpus=corpus, id2word=dictionary,\n",
    "                            num_topics=num_topics,\n",
    "                            random_state=random_state,\n",
    "                            update_every=update_every,\n",
    "                            chunksize=chunksize,\n",
    "                            passes=1,\n",
    "                            alpha='auto',\n",
    "                            per_word_topics=True)\n",
    "\n",
    "## Cell Topics\n",
    "cell_scores = lda.get_document_topics(corpus)\n",
    "cell_scores_mat = gensim.matutils.corpus2dense(cell_scores, num_terms=num_topics)\n",
    "\n",
    "## topic by cell/documents\n",
    "cell_topics = pd.DataFrame(cell_scores_mat.T)\n",
    "cell_topics['index'] = adata.obs.index.tolist()\n",
    "cell_topics.set_index('index', inplace=True)\n",
    "\n",
    "## every topic by every gene\n",
    "topic_scores = pd.DataFrame(lda.get_topics()).T\n",
    "topic_scores['index'] = adata.var_names\n",
    "topic_scores.set_index('index', inplace=True)"
   ]
  },
  {
   "cell_type": "code",
   "execution_count": 7,
   "metadata": {},
   "outputs": [
    {
     "data": {
      "text/html": [
       "<div>\n",
       "<style scoped>\n",
       "    .dataframe tbody tr th:only-of-type {\n",
       "        vertical-align: middle;\n",
       "    }\n",
       "\n",
       "    .dataframe tbody tr th {\n",
       "        vertical-align: top;\n",
       "    }\n",
       "\n",
       "    .dataframe thead th {\n",
       "        text-align: right;\n",
       "    }\n",
       "</style>\n",
       "<table border=\"1\" class=\"dataframe\">\n",
       "  <thead>\n",
       "    <tr style=\"text-align: right;\">\n",
       "      <th></th>\n",
       "      <th>0</th>\n",
       "      <th>1</th>\n",
       "      <th>2</th>\n",
       "      <th>3</th>\n",
       "      <th>4</th>\n",
       "    </tr>\n",
       "    <tr>\n",
       "      <th>index</th>\n",
       "      <th></th>\n",
       "      <th></th>\n",
       "      <th></th>\n",
       "      <th></th>\n",
       "      <th></th>\n",
       "    </tr>\n",
       "  </thead>\n",
       "  <tbody>\n",
       "    <tr>\n",
       "      <td>AAACATACAACCAC-1</td>\n",
       "      <td>0.178770</td>\n",
       "      <td>0.322717</td>\n",
       "      <td>0.161274</td>\n",
       "      <td>0.077828</td>\n",
       "      <td>0.259411</td>\n",
       "    </tr>\n",
       "    <tr>\n",
       "      <td>AAACATTGAGCTAC-1</td>\n",
       "      <td>0.138892</td>\n",
       "      <td>0.306201</td>\n",
       "      <td>0.103224</td>\n",
       "      <td>0.101763</td>\n",
       "      <td>0.349919</td>\n",
       "    </tr>\n",
       "    <tr>\n",
       "      <td>AAACATTGATCAGC-1</td>\n",
       "      <td>0.381413</td>\n",
       "      <td>0.233595</td>\n",
       "      <td>0.092662</td>\n",
       "      <td>0.151612</td>\n",
       "      <td>0.140718</td>\n",
       "    </tr>\n",
       "  </tbody>\n",
       "</table>\n",
       "</div>"
      ],
      "text/plain": [
       "                         0         1         2         3         4\n",
       "index                                                             \n",
       "AAACATACAACCAC-1  0.178770  0.322717  0.161274  0.077828  0.259411\n",
       "AAACATTGAGCTAC-1  0.138892  0.306201  0.103224  0.101763  0.349919\n",
       "AAACATTGATCAGC-1  0.381413  0.233595  0.092662  0.151612  0.140718"
      ]
     },
     "execution_count": 7,
     "metadata": {},
     "output_type": "execute_result"
    }
   ],
   "source": [
    "cell_topics.head(3)"
   ]
  },
  {
   "cell_type": "code",
   "execution_count": 8,
   "metadata": {},
   "outputs": [
    {
     "data": {
      "text/html": [
       "<div>\n",
       "<style scoped>\n",
       "    .dataframe tbody tr th:only-of-type {\n",
       "        vertical-align: middle;\n",
       "    }\n",
       "\n",
       "    .dataframe tbody tr th {\n",
       "        vertical-align: top;\n",
       "    }\n",
       "\n",
       "    .dataframe thead th {\n",
       "        text-align: right;\n",
       "    }\n",
       "</style>\n",
       "<table border=\"1\" class=\"dataframe\">\n",
       "  <thead>\n",
       "    <tr style=\"text-align: right;\">\n",
       "      <th></th>\n",
       "      <th>0</th>\n",
       "      <th>1</th>\n",
       "      <th>2</th>\n",
       "      <th>3</th>\n",
       "      <th>4</th>\n",
       "    </tr>\n",
       "    <tr>\n",
       "      <th>index</th>\n",
       "      <th></th>\n",
       "      <th></th>\n",
       "      <th></th>\n",
       "      <th></th>\n",
       "      <th></th>\n",
       "    </tr>\n",
       "  </thead>\n",
       "  <tbody>\n",
       "    <tr>\n",
       "      <td>MIR1302-10</td>\n",
       "      <td>2.390618e-07</td>\n",
       "      <td>1.415336e-07</td>\n",
       "      <td>1.362322e-07</td>\n",
       "      <td>2.817572e-07</td>\n",
       "      <td>1.024772e-07</td>\n",
       "    </tr>\n",
       "    <tr>\n",
       "      <td>FAM138A</td>\n",
       "      <td>2.390618e-07</td>\n",
       "      <td>1.415336e-07</td>\n",
       "      <td>1.362322e-07</td>\n",
       "      <td>2.817572e-07</td>\n",
       "      <td>1.024772e-07</td>\n",
       "    </tr>\n",
       "    <tr>\n",
       "      <td>OR4F5</td>\n",
       "      <td>2.390618e-07</td>\n",
       "      <td>1.415336e-07</td>\n",
       "      <td>1.362322e-07</td>\n",
       "      <td>2.817572e-07</td>\n",
       "      <td>1.024772e-07</td>\n",
       "    </tr>\n",
       "  </tbody>\n",
       "</table>\n",
       "</div>"
      ],
      "text/plain": [
       "                       0             1             2             3  \\\n",
       "index                                                                \n",
       "MIR1302-10  2.390618e-07  1.415336e-07  1.362322e-07  2.817572e-07   \n",
       "FAM138A     2.390618e-07  1.415336e-07  1.362322e-07  2.817572e-07   \n",
       "OR4F5       2.390618e-07  1.415336e-07  1.362322e-07  2.817572e-07   \n",
       "\n",
       "                       4  \n",
       "index                     \n",
       "MIR1302-10  1.024772e-07  \n",
       "FAM138A     1.024772e-07  \n",
       "OR4F5       1.024772e-07  "
      ]
     },
     "execution_count": 8,
     "metadata": {},
     "output_type": "execute_result"
    }
   ],
   "source": [
    "topic_scores.head(3)"
   ]
  },
  {
   "cell_type": "markdown",
   "metadata": {},
   "source": [
    "### LDA Using Script Import"
   ]
  },
  {
   "cell_type": "code",
   "execution_count": 9,
   "metadata": {},
   "outputs": [],
   "source": [
    "# Solution B - If the script importing the module is not in a package\n",
    "import os,sys,inspect\n",
    "current_dir = os.path.dirname(os.path.abspath(inspect.getfile(inspect.currentframe())))\n",
    "parent_dir = os.path.dirname(current_dir)\n",
    "sys.path.insert(0, parent_dir) \n",
    "import sc_topics"
   ]
  },
  {
   "cell_type": "code",
   "execution_count": 10,
   "metadata": {},
   "outputs": [],
   "source": [
    "## Read Data\n",
    "# adata = sc.read('/ahg/regevdata/users/kgosik/data/pbmc/pbmc_test_data.h5ad')\n",
    "adata = sc.read_10x_mtx('/ahg/regevdata/users/kgosik/data/pbmc/hg19')"
   ]
  },
  {
   "cell_type": "code",
   "execution_count": 11,
   "metadata": {},
   "outputs": [
    {
     "data": {
      "text/html": [
       "<div>\n",
       "<style scoped>\n",
       "    .dataframe tbody tr th:only-of-type {\n",
       "        vertical-align: middle;\n",
       "    }\n",
       "\n",
       "    .dataframe tbody tr th {\n",
       "        vertical-align: top;\n",
       "    }\n",
       "\n",
       "    .dataframe thead th {\n",
       "        text-align: right;\n",
       "    }\n",
       "</style>\n",
       "<table border=\"1\" class=\"dataframe\">\n",
       "  <thead>\n",
       "    <tr style=\"text-align: right;\">\n",
       "      <th></th>\n",
       "    </tr>\n",
       "  </thead>\n",
       "  <tbody>\n",
       "    <tr>\n",
       "      <td>AAACATACAACCAC-1</td>\n",
       "    </tr>\n",
       "    <tr>\n",
       "      <td>AAACATTGAGCTAC-1</td>\n",
       "    </tr>\n",
       "    <tr>\n",
       "      <td>AAACATTGATCAGC-1</td>\n",
       "    </tr>\n",
       "  </tbody>\n",
       "</table>\n",
       "</div>"
      ],
      "text/plain": [
       "Empty DataFrame\n",
       "Columns: []\n",
       "Index: [AAACATACAACCAC-1, AAACATTGAGCTAC-1, AAACATTGATCAGC-1]"
      ]
     },
     "execution_count": 11,
     "metadata": {},
     "output_type": "execute_result"
    }
   ],
   "source": [
    "adata.obs.head(3)"
   ]
  },
  {
   "cell_type": "code",
   "execution_count": 12,
   "metadata": {},
   "outputs": [
    {
     "name": "stdout",
     "output_type": "stream",
     "text": [
      "Running LDA with  5 topics\n"
     ]
    }
   ],
   "source": [
    "adata=sc_topics.topics(adata, model=\"lda\",\n",
    "                       num_topics=num_topics,\n",
    "                       random_state=random_state,\n",
    "                       update_every=update_every,\n",
    "                       chunksize=chunksize,\n",
    "                       passes=1,\n",
    "                       alpha='auto',\n",
    "                       per_word_topics=True,\n",
    "                      copy=True)"
   ]
  },
  {
   "cell_type": "code",
   "execution_count": 13,
   "metadata": {},
   "outputs": [
    {
     "data": {
      "text/html": [
       "<div>\n",
       "<style scoped>\n",
       "    .dataframe tbody tr th:only-of-type {\n",
       "        vertical-align: middle;\n",
       "    }\n",
       "\n",
       "    .dataframe tbody tr th {\n",
       "        vertical-align: top;\n",
       "    }\n",
       "\n",
       "    .dataframe thead th {\n",
       "        text-align: right;\n",
       "    }\n",
       "</style>\n",
       "<table border=\"1\" class=\"dataframe\">\n",
       "  <thead>\n",
       "    <tr style=\"text-align: right;\">\n",
       "      <th></th>\n",
       "      <th>0</th>\n",
       "      <th>1</th>\n",
       "      <th>2</th>\n",
       "      <th>3</th>\n",
       "      <th>4</th>\n",
       "    </tr>\n",
       "  </thead>\n",
       "  <tbody>\n",
       "    <tr>\n",
       "      <td>AAACATACAACCAC-1</td>\n",
       "      <td>0.178770</td>\n",
       "      <td>0.322717</td>\n",
       "      <td>0.161274</td>\n",
       "      <td>0.077828</td>\n",
       "      <td>0.259411</td>\n",
       "    </tr>\n",
       "    <tr>\n",
       "      <td>AAACATTGAGCTAC-1</td>\n",
       "      <td>0.138892</td>\n",
       "      <td>0.306201</td>\n",
       "      <td>0.103224</td>\n",
       "      <td>0.101763</td>\n",
       "      <td>0.349919</td>\n",
       "    </tr>\n",
       "    <tr>\n",
       "      <td>AAACATTGATCAGC-1</td>\n",
       "      <td>0.381413</td>\n",
       "      <td>0.233595</td>\n",
       "      <td>0.092662</td>\n",
       "      <td>0.151612</td>\n",
       "      <td>0.140718</td>\n",
       "    </tr>\n",
       "    <tr>\n",
       "      <td>AAACCGTGCTTCCG-1</td>\n",
       "      <td>0.037346</td>\n",
       "      <td>0.089396</td>\n",
       "      <td>0.554850</td>\n",
       "      <td>0.071451</td>\n",
       "      <td>0.246956</td>\n",
       "    </tr>\n",
       "    <tr>\n",
       "      <td>AAACCGTGTATGCG-1</td>\n",
       "      <td>0.429878</td>\n",
       "      <td>0.172306</td>\n",
       "      <td>0.041497</td>\n",
       "      <td>0.188836</td>\n",
       "      <td>0.167484</td>\n",
       "    </tr>\n",
       "  </tbody>\n",
       "</table>\n",
       "</div>"
      ],
      "text/plain": [
       "                         0         1         2         3         4\n",
       "AAACATACAACCAC-1  0.178770  0.322717  0.161274  0.077828  0.259411\n",
       "AAACATTGAGCTAC-1  0.138892  0.306201  0.103224  0.101763  0.349919\n",
       "AAACATTGATCAGC-1  0.381413  0.233595  0.092662  0.151612  0.140718\n",
       "AAACCGTGCTTCCG-1  0.037346  0.089396  0.554850  0.071451  0.246956\n",
       "AAACCGTGTATGCG-1  0.429878  0.172306  0.041497  0.188836  0.167484"
      ]
     },
     "execution_count": 13,
     "metadata": {},
     "output_type": "execute_result"
    }
   ],
   "source": [
    "adata.obs.head(5)"
   ]
  },
  {
   "cell_type": "code",
   "execution_count": 14,
   "metadata": {},
   "outputs": [
    {
     "data": {
      "text/html": [
       "<div>\n",
       "<style scoped>\n",
       "    .dataframe tbody tr th:only-of-type {\n",
       "        vertical-align: middle;\n",
       "    }\n",
       "\n",
       "    .dataframe tbody tr th {\n",
       "        vertical-align: top;\n",
       "    }\n",
       "\n",
       "    .dataframe thead th {\n",
       "        text-align: right;\n",
       "    }\n",
       "</style>\n",
       "<table border=\"1\" class=\"dataframe\">\n",
       "  <thead>\n",
       "    <tr style=\"text-align: right;\">\n",
       "      <th></th>\n",
       "      <th>gene_ids</th>\n",
       "      <th>0</th>\n",
       "      <th>1</th>\n",
       "      <th>2</th>\n",
       "      <th>3</th>\n",
       "      <th>4</th>\n",
       "    </tr>\n",
       "  </thead>\n",
       "  <tbody>\n",
       "    <tr>\n",
       "      <td>MIR1302-10</td>\n",
       "      <td>ENSG00000243485</td>\n",
       "      <td>2.390618e-07</td>\n",
       "      <td>1.415336e-07</td>\n",
       "      <td>1.362322e-07</td>\n",
       "      <td>2.817572e-07</td>\n",
       "      <td>1.024772e-07</td>\n",
       "    </tr>\n",
       "    <tr>\n",
       "      <td>FAM138A</td>\n",
       "      <td>ENSG00000237613</td>\n",
       "      <td>2.390618e-07</td>\n",
       "      <td>1.415336e-07</td>\n",
       "      <td>1.362322e-07</td>\n",
       "      <td>2.817572e-07</td>\n",
       "      <td>1.024772e-07</td>\n",
       "    </tr>\n",
       "    <tr>\n",
       "      <td>OR4F5</td>\n",
       "      <td>ENSG00000186092</td>\n",
       "      <td>2.390618e-07</td>\n",
       "      <td>1.415336e-07</td>\n",
       "      <td>1.362322e-07</td>\n",
       "      <td>2.817572e-07</td>\n",
       "      <td>1.024772e-07</td>\n",
       "    </tr>\n",
       "    <tr>\n",
       "      <td>RP11-34P13.7</td>\n",
       "      <td>ENSG00000238009</td>\n",
       "      <td>2.390618e-07</td>\n",
       "      <td>1.415336e-07</td>\n",
       "      <td>1.362322e-07</td>\n",
       "      <td>2.817572e-07</td>\n",
       "      <td>1.024772e-07</td>\n",
       "    </tr>\n",
       "    <tr>\n",
       "      <td>RP11-34P13.8</td>\n",
       "      <td>ENSG00000239945</td>\n",
       "      <td>2.390618e-07</td>\n",
       "      <td>1.415336e-07</td>\n",
       "      <td>1.362322e-07</td>\n",
       "      <td>2.817572e-07</td>\n",
       "      <td>1.024772e-07</td>\n",
       "    </tr>\n",
       "  </tbody>\n",
       "</table>\n",
       "</div>"
      ],
      "text/plain": [
       "                     gene_ids             0             1             2  \\\n",
       "MIR1302-10    ENSG00000243485  2.390618e-07  1.415336e-07  1.362322e-07   \n",
       "FAM138A       ENSG00000237613  2.390618e-07  1.415336e-07  1.362322e-07   \n",
       "OR4F5         ENSG00000186092  2.390618e-07  1.415336e-07  1.362322e-07   \n",
       "RP11-34P13.7  ENSG00000238009  2.390618e-07  1.415336e-07  1.362322e-07   \n",
       "RP11-34P13.8  ENSG00000239945  2.390618e-07  1.415336e-07  1.362322e-07   \n",
       "\n",
       "                         3             4  \n",
       "MIR1302-10    2.817572e-07  1.024772e-07  \n",
       "FAM138A       2.817572e-07  1.024772e-07  \n",
       "OR4F5         2.817572e-07  1.024772e-07  \n",
       "RP11-34P13.7  2.817572e-07  1.024772e-07  \n",
       "RP11-34P13.8  2.817572e-07  1.024772e-07  "
      ]
     },
     "execution_count": 14,
     "metadata": {},
     "output_type": "execute_result"
    }
   ],
   "source": [
    "adata.var.head(5)"
   ]
  },
  {
   "cell_type": "code",
   "execution_count": null,
   "metadata": {},
   "outputs": [],
   "source": []
  }
 ],
 "metadata": {
  "kernelspec": {
   "display_name": "Python 3",
   "language": "python",
   "name": "python3"
  },
  "language_info": {
   "codemirror_mode": {
    "name": "ipython",
    "version": 3
   },
   "file_extension": ".py",
   "mimetype": "text/x-python",
   "name": "python",
   "nbconvert_exporter": "python",
   "pygments_lexer": "ipython3",
   "version": "3.7.3"
  }
 },
 "nbformat": 4,
 "nbformat_minor": 4
}
