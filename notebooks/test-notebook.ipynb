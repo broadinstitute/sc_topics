{
 "cells": [
  {
   "cell_type": "markdown",
   "metadata": {},
   "source": [
    "# Setup"
   ]
  },
  {
   "cell_type": "markdown",
   "metadata": {},
   "source": [
    "## Load Packages"
   ]
  },
  {
   "cell_type": "code",
   "execution_count": 5,
   "metadata": {},
   "outputs": [],
   "source": [
    "import os\n",
    "import scanpy as sc\n",
    "\n",
    "import numpy as np\n",
    "import pandas as pd\n",
    "\n",
    "from numpy.random.mtrand import RandomState\n",
    "from sklearn.utils import check_random_state, check_array\n",
    "from sklearn.decomposition import NMF\n",
    "\n",
    "import gensim\n",
    "from gensim import corpora, models, similarities"
   ]
  },
  {
   "cell_type": "markdown",
   "metadata": {},
   "source": [
    "## Read Data"
   ]
  },
  {
   "cell_type": "code",
   "execution_count": 6,
   "metadata": {},
   "outputs": [],
   "source": [
    "## Read Data\n",
    "# adata = sc.read('/ahg/regevdata/users/kgosik/data/pbmc/pbmc_test_data.h5ad')\n",
    "adata = sc.read_10x_mtx('/ahg/regevdata/users/kgosik/data/pbmc/hg19')"
   ]
  },
  {
   "cell_type": "code",
   "execution_count": 7,
   "metadata": {},
   "outputs": [],
   "source": [
    "## Extract Sparse gbm \n",
    "adata_use = adata.copy()\n",
    "mat = adata_use.X.transpose()\n",
    "geneids = adata_use.var_names\n",
    "\n",
    "## Create Vocab list of genes\n",
    "id_list = geneids.tolist()\n",
    "out = [[]]\n",
    "for i in id_list: out.append([i])\n",
    "## Turn into dictionary for use in model\n",
    "dictionary = corpora.Dictionary(out)\n",
    "## Convert gbm to a corpus format for model\n",
    "corpus = gensim.matutils.Sparse2Corpus(mat)\n",
    "# corpus = gensim.matutils.Dense2Corpus(mat)\n",
    "## corpora.MmCorpus.serialize(project_directory + '/corpus/' + output + '_corpus.mm', corpus)"
   ]
  },
  {
   "cell_type": "code",
   "execution_count": 9,
   "metadata": {},
   "outputs": [],
   "source": [
    "num_topics = 5\n",
    "random_state = 1\n",
    "update_every = 0\n",
    "chunksize = 1000"
   ]
  },
  {
   "cell_type": "markdown",
   "metadata": {},
   "source": [
    "## NMF Section"
   ]
  },
  {
   "cell_type": "markdown",
   "metadata": {},
   "source": [
    "### NMF Code Chunks (sklearn)"
   ]
  },
  {
   "cell_type": "code",
   "execution_count": 10,
   "metadata": {},
   "outputs": [],
   "source": [
    "# https://scikit-learn.org/stable/modules/generated/sklearn.decomposition.NMF.html\n",
    "nmf = NMF(n_components=num_topics, init='random', random_state=random_state) #, alpha=decay)\n",
    "W = nmf.fit_transform(mat.T)\n",
    "H = nmf.components_\n",
    "\n",
    "## topic by cell/documents\n",
    "cell_topics = pd.DataFrame(W)\n",
    "cell_topics['index'] = adata.obs.index.tolist()\n",
    "cell_topics.set_index('index', inplace=True)\n",
    "\n",
    "## every topic by every gene\n",
    "topic_scores = pd.DataFrame(H).T\n",
    "topic_scores['index'] = adata.var_names\n",
    "topic_scores.set_index('index', inplace=True)"
   ]
  },
  {
   "cell_type": "code",
   "execution_count": 18,
   "metadata": {},
   "outputs": [
    {
     "data": {
      "text/html": [
       "<div>\n",
       "<style scoped>\n",
       "    .dataframe tbody tr th:only-of-type {\n",
       "        vertical-align: middle;\n",
       "    }\n",
       "\n",
       "    .dataframe tbody tr th {\n",
       "        vertical-align: top;\n",
       "    }\n",
       "\n",
       "    .dataframe thead th {\n",
       "        text-align: right;\n",
       "    }\n",
       "</style>\n",
       "<table border=\"1\" class=\"dataframe\">\n",
       "  <thead>\n",
       "    <tr style=\"text-align: right;\">\n",
       "      <th></th>\n",
       "      <th>0</th>\n",
       "      <th>1</th>\n",
       "      <th>2</th>\n",
       "      <th>3</th>\n",
       "      <th>4</th>\n",
       "    </tr>\n",
       "    <tr>\n",
       "      <th>index</th>\n",
       "      <th></th>\n",
       "      <th></th>\n",
       "      <th></th>\n",
       "      <th></th>\n",
       "      <th></th>\n",
       "    </tr>\n",
       "  </thead>\n",
       "  <tbody>\n",
       "    <tr>\n",
       "      <th>AAACATACAACCAC-1</th>\n",
       "      <td>0.321293</td>\n",
       "      <td>0.030133</td>\n",
       "      <td>0.281609</td>\n",
       "      <td>0.103328</td>\n",
       "      <td>0.000000</td>\n",
       "    </tr>\n",
       "    <tr>\n",
       "      <th>AAACATTGAGCTAC-1</th>\n",
       "      <td>0.632070</td>\n",
       "      <td>0.007168</td>\n",
       "      <td>0.640968</td>\n",
       "      <td>0.109391</td>\n",
       "      <td>0.228019</td>\n",
       "    </tr>\n",
       "    <tr>\n",
       "      <th>AAACATTGATCAGC-1</th>\n",
       "      <td>0.200473</td>\n",
       "      <td>0.121113</td>\n",
       "      <td>0.786772</td>\n",
       "      <td>0.119246</td>\n",
       "      <td>0.000000</td>\n",
       "    </tr>\n",
       "  </tbody>\n",
       "</table>\n",
       "</div>"
      ],
      "text/plain": [
       "                         0         1         2         3         4\n",
       "index                                                             \n",
       "AAACATACAACCAC-1  0.321293  0.030133  0.281609  0.103328  0.000000\n",
       "AAACATTGAGCTAC-1  0.632070  0.007168  0.640968  0.109391  0.228019\n",
       "AAACATTGATCAGC-1  0.200473  0.121113  0.786772  0.119246  0.000000"
      ]
     },
     "execution_count": 18,
     "metadata": {},
     "output_type": "execute_result"
    }
   ],
   "source": [
    "cell_topics.head(3)"
   ]
  },
  {
   "cell_type": "code",
   "execution_count": 19,
   "metadata": {},
   "outputs": [
    {
     "data": {
      "text/html": [
       "<div>\n",
       "<style scoped>\n",
       "    .dataframe tbody tr th:only-of-type {\n",
       "        vertical-align: middle;\n",
       "    }\n",
       "\n",
       "    .dataframe tbody tr th {\n",
       "        vertical-align: top;\n",
       "    }\n",
       "\n",
       "    .dataframe thead th {\n",
       "        text-align: right;\n",
       "    }\n",
       "</style>\n",
       "<table border=\"1\" class=\"dataframe\">\n",
       "  <thead>\n",
       "    <tr style=\"text-align: right;\">\n",
       "      <th></th>\n",
       "      <th>0</th>\n",
       "      <th>1</th>\n",
       "      <th>2</th>\n",
       "      <th>3</th>\n",
       "      <th>4</th>\n",
       "    </tr>\n",
       "    <tr>\n",
       "      <th>index</th>\n",
       "      <th></th>\n",
       "      <th></th>\n",
       "      <th></th>\n",
       "      <th></th>\n",
       "      <th></th>\n",
       "    </tr>\n",
       "  </thead>\n",
       "  <tbody>\n",
       "    <tr>\n",
       "      <th>MIR1302-10</th>\n",
       "      <td>0.0</td>\n",
       "      <td>0.0</td>\n",
       "      <td>0.0</td>\n",
       "      <td>0.0</td>\n",
       "      <td>0.0</td>\n",
       "    </tr>\n",
       "    <tr>\n",
       "      <th>FAM138A</th>\n",
       "      <td>0.0</td>\n",
       "      <td>0.0</td>\n",
       "      <td>0.0</td>\n",
       "      <td>0.0</td>\n",
       "      <td>0.0</td>\n",
       "    </tr>\n",
       "    <tr>\n",
       "      <th>OR4F5</th>\n",
       "      <td>0.0</td>\n",
       "      <td>0.0</td>\n",
       "      <td>0.0</td>\n",
       "      <td>0.0</td>\n",
       "      <td>0.0</td>\n",
       "    </tr>\n",
       "  </tbody>\n",
       "</table>\n",
       "</div>"
      ],
      "text/plain": [
       "              0    1    2    3    4\n",
       "index                              \n",
       "MIR1302-10  0.0  0.0  0.0  0.0  0.0\n",
       "FAM138A     0.0  0.0  0.0  0.0  0.0\n",
       "OR4F5       0.0  0.0  0.0  0.0  0.0"
      ]
     },
     "execution_count": 19,
     "metadata": {},
     "output_type": "execute_result"
    }
   ],
   "source": [
    "topic_scores.head(3)"
   ]
  },
  {
   "cell_type": "markdown",
   "metadata": {},
   "source": [
    "### NMF Using Script Import (sklearn)"
   ]
  },
  {
   "cell_type": "code",
   "execution_count": null,
   "metadata": {},
   "outputs": [],
   "source": [
    "# Solution A\n",
    "import sc_topics"
   ]
  },
  {
   "cell_type": "code",
   "execution_count": 13,
   "metadata": {},
   "outputs": [],
   "source": [
    "# Solution B - If the script importing the module is not in a package\n",
    "import os,sys,inspect\n",
    "current_dir = os.path.dirname(os.path.abspath(inspect.getfile(inspect.currentframe())))\n",
    "parent_dir = os.path.dirname(current_dir)\n",
    "sys.path.insert(0, parent_dir) \n",
    "import sc_topics"
   ]
  },
  {
   "cell_type": "code",
   "execution_count": 14,
   "metadata": {},
   "outputs": [
    {
     "data": {
      "text/html": [
       "<div>\n",
       "<style scoped>\n",
       "    .dataframe tbody tr th:only-of-type {\n",
       "        vertical-align: middle;\n",
       "    }\n",
       "\n",
       "    .dataframe tbody tr th {\n",
       "        vertical-align: top;\n",
       "    }\n",
       "\n",
       "    .dataframe thead th {\n",
       "        text-align: right;\n",
       "    }\n",
       "</style>\n",
       "<table border=\"1\" class=\"dataframe\">\n",
       "  <thead>\n",
       "    <tr style=\"text-align: right;\">\n",
       "      <th></th>\n",
       "    </tr>\n",
       "  </thead>\n",
       "  <tbody>\n",
       "    <tr>\n",
       "      <th>AAACATACAACCAC-1</th>\n",
       "    </tr>\n",
       "    <tr>\n",
       "      <th>AAACATTGAGCTAC-1</th>\n",
       "    </tr>\n",
       "    <tr>\n",
       "      <th>AAACATTGATCAGC-1</th>\n",
       "    </tr>\n",
       "  </tbody>\n",
       "</table>\n",
       "</div>"
      ],
      "text/plain": [
       "Empty DataFrame\n",
       "Columns: []\n",
       "Index: [AAACATACAACCAC-1, AAACATTGAGCTAC-1, AAACATTGATCAGC-1]"
      ]
     },
     "execution_count": 14,
     "metadata": {},
     "output_type": "execute_result"
    }
   ],
   "source": [
    "adata.obs.head(3)"
   ]
  },
  {
   "cell_type": "code",
   "execution_count": 15,
   "metadata": {},
   "outputs": [],
   "source": [
    "adata=sc_topics.topics(adata, \n",
    "                       model=\"nmf\",\n",
    "                       num_topics=num_topics,\n",
    "                       random_state=random_state,\n",
    "                       update_every=update_every,\n",
    "                       chunksize=chunksize,\n",
    "                       passes=1,\n",
    "                       alpha='auto',\n",
    "                       per_word_topics=True,\n",
    "                       copy=True)"
   ]
  },
  {
   "cell_type": "code",
   "execution_count": 16,
   "metadata": {},
   "outputs": [
    {
     "data": {
      "text/html": [
       "<div>\n",
       "<style scoped>\n",
       "    .dataframe tbody tr th:only-of-type {\n",
       "        vertical-align: middle;\n",
       "    }\n",
       "\n",
       "    .dataframe tbody tr th {\n",
       "        vertical-align: top;\n",
       "    }\n",
       "\n",
       "    .dataframe thead th {\n",
       "        text-align: right;\n",
       "    }\n",
       "</style>\n",
       "<table border=\"1\" class=\"dataframe\">\n",
       "  <thead>\n",
       "    <tr style=\"text-align: right;\">\n",
       "      <th></th>\n",
       "      <th>0</th>\n",
       "      <th>1</th>\n",
       "      <th>2</th>\n",
       "      <th>3</th>\n",
       "      <th>4</th>\n",
       "    </tr>\n",
       "  </thead>\n",
       "  <tbody>\n",
       "    <tr>\n",
       "      <th>AAACATACAACCAC-1</th>\n",
       "      <td>0.321293</td>\n",
       "      <td>0.030133</td>\n",
       "      <td>0.281609</td>\n",
       "      <td>0.103328</td>\n",
       "      <td>0.000000</td>\n",
       "    </tr>\n",
       "    <tr>\n",
       "      <th>AAACATTGAGCTAC-1</th>\n",
       "      <td>0.632070</td>\n",
       "      <td>0.007168</td>\n",
       "      <td>0.640968</td>\n",
       "      <td>0.109391</td>\n",
       "      <td>0.228019</td>\n",
       "    </tr>\n",
       "    <tr>\n",
       "      <th>AAACATTGATCAGC-1</th>\n",
       "      <td>0.200473</td>\n",
       "      <td>0.121113</td>\n",
       "      <td>0.786772</td>\n",
       "      <td>0.119246</td>\n",
       "      <td>0.000000</td>\n",
       "    </tr>\n",
       "  </tbody>\n",
       "</table>\n",
       "</div>"
      ],
      "text/plain": [
       "                         0         1         2         3         4\n",
       "AAACATACAACCAC-1  0.321293  0.030133  0.281609  0.103328  0.000000\n",
       "AAACATTGAGCTAC-1  0.632070  0.007168  0.640968  0.109391  0.228019\n",
       "AAACATTGATCAGC-1  0.200473  0.121113  0.786772  0.119246  0.000000"
      ]
     },
     "execution_count": 16,
     "metadata": {},
     "output_type": "execute_result"
    }
   ],
   "source": [
    "adata.obs.head(3)"
   ]
  },
  {
   "cell_type": "code",
   "execution_count": 17,
   "metadata": {},
   "outputs": [
    {
     "data": {
      "text/html": [
       "<div>\n",
       "<style scoped>\n",
       "    .dataframe tbody tr th:only-of-type {\n",
       "        vertical-align: middle;\n",
       "    }\n",
       "\n",
       "    .dataframe tbody tr th {\n",
       "        vertical-align: top;\n",
       "    }\n",
       "\n",
       "    .dataframe thead th {\n",
       "        text-align: right;\n",
       "    }\n",
       "</style>\n",
       "<table border=\"1\" class=\"dataframe\">\n",
       "  <thead>\n",
       "    <tr style=\"text-align: right;\">\n",
       "      <th></th>\n",
       "      <th>gene_ids</th>\n",
       "      <th>0</th>\n",
       "      <th>1</th>\n",
       "      <th>2</th>\n",
       "      <th>3</th>\n",
       "      <th>4</th>\n",
       "    </tr>\n",
       "  </thead>\n",
       "  <tbody>\n",
       "    <tr>\n",
       "      <th>MIR1302-10</th>\n",
       "      <td>ENSG00000243485</td>\n",
       "      <td>0.0</td>\n",
       "      <td>0.0</td>\n",
       "      <td>0.0</td>\n",
       "      <td>0.0</td>\n",
       "      <td>0.0</td>\n",
       "    </tr>\n",
       "    <tr>\n",
       "      <th>FAM138A</th>\n",
       "      <td>ENSG00000237613</td>\n",
       "      <td>0.0</td>\n",
       "      <td>0.0</td>\n",
       "      <td>0.0</td>\n",
       "      <td>0.0</td>\n",
       "      <td>0.0</td>\n",
       "    </tr>\n",
       "    <tr>\n",
       "      <th>OR4F5</th>\n",
       "      <td>ENSG00000186092</td>\n",
       "      <td>0.0</td>\n",
       "      <td>0.0</td>\n",
       "      <td>0.0</td>\n",
       "      <td>0.0</td>\n",
       "      <td>0.0</td>\n",
       "    </tr>\n",
       "  </tbody>\n",
       "</table>\n",
       "</div>"
      ],
      "text/plain": [
       "                   gene_ids    0    1    2    3    4\n",
       "MIR1302-10  ENSG00000243485  0.0  0.0  0.0  0.0  0.0\n",
       "FAM138A     ENSG00000237613  0.0  0.0  0.0  0.0  0.0\n",
       "OR4F5       ENSG00000186092  0.0  0.0  0.0  0.0  0.0"
      ]
     },
     "execution_count": 17,
     "metadata": {},
     "output_type": "execute_result"
    }
   ],
   "source": [
    "adata.var.head(3)"
   ]
  },
  {
   "cell_type": "markdown",
   "metadata": {},
   "source": [
    "### NMF Code Chunks (gensim/online)\n",
    "\n",
    "This one is not working.  It keeps giving an error saying that \"AttributeError: module 'gensim.models' has no attribute 'nmf'\""
   ]
  },
  {
   "cell_type": "code",
   "execution_count": null,
   "metadata": {},
   "outputs": [],
   "source": [
    "## https://radimrehurek.com/gensim/models/nmf.html\n",
    "nmf = gensim.models.nmf.Nmf(corpus, num_topics=10)\n",
    "\n",
    "## Cell Topics\n",
    "cell_scores = nmf.get_document_topics(corpus)\n",
    "cell_scores_mat = gensim.matutils.corpus2dense(cell_scores, num_terms=num_topics)\n",
    "\n",
    "## topic by cell/documents\n",
    "cell_topics = pd.DataFrame(cell_scores_mat.T)\n",
    "cell_topics['index'] = adata.obs.index.tolist()\n",
    "cell_topics.set_index('index', inplace=True)\n",
    "\n",
    "## every topic by every gene\n",
    "topic_scores = pd.DataFrame(nmf.get_topics()).T\n",
    "topic_scores['index'] = adata.var_names\n",
    "topic_scores.set_index('index', inplace=True)"
   ]
  },
  {
   "cell_type": "markdown",
   "metadata": {},
   "source": [
    "### NMF Using Script Import (gensim/online)"
   ]
  },
  {
   "cell_type": "code",
   "execution_count": null,
   "metadata": {},
   "outputs": [],
   "source": []
  },
  {
   "cell_type": "markdown",
   "metadata": {},
   "source": [
    "## LDA Section"
   ]
  },
  {
   "cell_type": "markdown",
   "metadata": {},
   "source": [
    "### LDA Code Chunks"
   ]
  },
  {
   "cell_type": "code",
   "execution_count": null,
   "metadata": {},
   "outputs": [],
   "source": [
    "## Read Data\n",
    "# adata = sc.read('/ahg/regevdata/users/kgosik/data/pbmc/pbmc_test_data.h5ad')\n",
    "adata = sc.read_10x_mtx('/ahg/regevdata/users/kgosik/data/pbmc/hg19')"
   ]
  },
  {
   "cell_type": "code",
   "execution_count": null,
   "metadata": {},
   "outputs": [],
   "source": [
    "adata.X"
   ]
  },
  {
   "cell_type": "code",
   "execution_count": null,
   "metadata": {},
   "outputs": [],
   "source": [
    "## Extract Sparse gbm \n",
    "adata_use = adata.copy()\n",
    "mat = adata_use.X.transpose()\n",
    "geneids = adata_use.var_names\n",
    "\n",
    "## Create Vocab list of genes\n",
    "id_list = geneids.tolist()\n",
    "out = [[]]\n",
    "for i in id_list: out.append([i])\n",
    "## Turn into dictionary for use in model\n",
    "dictionary = corpora.Dictionary(out)\n",
    "## Convert gbm to a corpus format for model\n",
    "corpus = gensim.matutils.Sparse2Corpus(mat)\n",
    "# corpus = gensim.matutils.Dense2Corpus(mat)\n",
    "## corpora.MmCorpus.serialize(project_directory + '/corpus/' + output + '_corpus.mm', corpus)"
   ]
  },
  {
   "cell_type": "code",
   "execution_count": null,
   "metadata": {},
   "outputs": [],
   "source": [
    "num_topics = 5\n",
    "random_state = 1\n",
    "update_every = 0\n",
    "chunksize = 1000"
   ]
  },
  {
   "cell_type": "code",
   "execution_count": null,
   "metadata": {},
   "outputs": [],
   "source": [
    "## model == 'lda'\n",
    "## Latent Dirichlet Allocation ####\n",
    "lda = models.LdaModel(corpus=corpus, id2word=dictionary,\n",
    "                            num_topics=num_topics,\n",
    "                            random_state=random_state,\n",
    "                            update_every=update_every,\n",
    "                            chunksize=chunksize,\n",
    "                            passes=1,\n",
    "                            alpha='auto',\n",
    "                            per_word_topics=True)\n",
    "\n",
    "## Cell Topics\n",
    "cell_scores = lda.get_document_topics(corpus)\n",
    "cell_scores_mat = gensim.matutils.corpus2dense(cell_scores, num_terms=num_topics)\n",
    "\n",
    "## topic by cell/documents\n",
    "cell_topics = pd.DataFrame(cell_scores_mat.T)\n",
    "cell_topics['index'] = adata.obs.index.tolist()\n",
    "cell_topics.set_index('index', inplace=True)\n",
    "\n",
    "## every topic by every gene\n",
    "topic_scores = pd.DataFrame(lda.get_topics()).T\n",
    "topic_scores['index'] = adata.var_names\n",
    "topic_scores.set_index('index', inplace=True)"
   ]
  },
  {
   "cell_type": "code",
   "execution_count": null,
   "metadata": {},
   "outputs": [],
   "source": [
    "cell_topics.head(3)"
   ]
  },
  {
   "cell_type": "code",
   "execution_count": null,
   "metadata": {},
   "outputs": [],
   "source": [
    "topic_scores.head(3)"
   ]
  },
  {
   "cell_type": "markdown",
   "metadata": {},
   "source": [
    "### LDA Using Script Import"
   ]
  },
  {
   "cell_type": "code",
   "execution_count": null,
   "metadata": {},
   "outputs": [],
   "source": [
    "# Solution A\n",
    "import sc_topics"
   ]
  },
  {
   "cell_type": "code",
   "execution_count": null,
   "metadata": {},
   "outputs": [],
   "source": [
    "# Solution B - If the script importing the module is not in a package\n",
    "import os,sys,inspect\n",
    "current_dir = os.path.dirname(os.path.abspath(inspect.getfile(inspect.currentframe())))\n",
    "parent_dir = os.path.dirname(current_dir)\n",
    "sys.path.insert(0, parent_dir) \n",
    "import sc_topics"
   ]
  },
  {
   "cell_type": "code",
   "execution_count": null,
   "metadata": {},
   "outputs": [],
   "source": [
    "## Read Data\n",
    "# adata = sc.read('/ahg/regevdata/users/kgosik/data/pbmc/pbmc_test_data.h5ad')\n",
    "adata = sc.read_10x_mtx('/ahg/regevdata/users/kgosik/data/pbmc/hg19')"
   ]
  },
  {
   "cell_type": "code",
   "execution_count": null,
   "metadata": {},
   "outputs": [],
   "source": [
    "adata.obs.head(3)"
   ]
  },
  {
   "cell_type": "code",
   "execution_count": null,
   "metadata": {},
   "outputs": [],
   "source": [
    "adata=sc_topics.topics(adata, \n",
    "                       model=\"lda\",\n",
    "                       num_topics=num_topics,\n",
    "                       random_state=random_state,\n",
    "                       update_every=update_every,\n",
    "                       chunksize=chunksize,\n",
    "                       passes=1,\n",
    "                       alpha='auto',\n",
    "                       per_word_topics=True,\n",
    "                       copy=True)"
   ]
  },
  {
   "cell_type": "code",
   "execution_count": null,
   "metadata": {},
   "outputs": [],
   "source": [
    "adata.obs.head(3)"
   ]
  },
  {
   "cell_type": "code",
   "execution_count": null,
   "metadata": {},
   "outputs": [],
   "source": [
    "adata.var.head(3)"
   ]
  },
  {
   "cell_type": "code",
   "execution_count": null,
   "metadata": {},
   "outputs": [],
   "source": []
  }
 ],
 "metadata": {
  "kernelspec": {
   "display_name": "Python 3",
   "language": "python",
   "name": "python3"
  },
  "language_info": {
   "codemirror_mode": {
    "name": "ipython",
    "version": 3
   },
   "file_extension": ".py",
   "mimetype": "text/x-python",
   "name": "python",
   "nbconvert_exporter": "python",
   "pygments_lexer": "ipython3",
   "version": "3.7.6"
  }
 },
 "nbformat": 4,
 "nbformat_minor": 4
}
